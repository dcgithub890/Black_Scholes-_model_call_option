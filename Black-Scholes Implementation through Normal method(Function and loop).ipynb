{
 "cells": [
  {
   "cell_type": "code",
   "execution_count": 1,
   "id": "faafc1fd",
   "metadata": {},
   "outputs": [],
   "source": [
    "# important files\n",
    "\n",
    "import numpy as np\n",
    "from scipy.stats import norm\n"
   ]
  },
  {
   "cell_type": "code",
   "execution_count": 21,
   "id": "dedaa1f0",
   "metadata": {},
   "outputs": [],
   "source": [
    "# lets define the variable \n",
    "r=0.01\n",
    "S=30\n",
    "K=40\n",
    "T = 240/365\n",
    "sigma = 0.30\n"
   ]
  },
  {
   "cell_type": "code",
   "execution_count": 23,
   "id": "c572391d",
   "metadata": {},
   "outputs": [],
   "source": [
    "# lets define a function for balckscholes\n",
    "\n",
    "def blackscholes(r,S,K,T,sigma,Type=\"C\"):\n",
    "    d1 = ((np.log(S/K))+(r+(sigma**2/2)*(T)))/(sigma*np.sqrt(T))\n",
    "    d2 = d1-sigma*(np.sqrt(T))\n",
    "    \n",
    "    try:\n",
    "        if Type == \"C\":\n",
    "            price  = (S*norm.cdf(d1,0,1))-(K*np.exp(-r*T)*norm.cdf(d2,0,1))\n",
    "        elif Type == \"P\":\n",
    "            price = (K*np.exp(-r*T)*norm.cdf(-d2,0,1)) - (S*norm.cdf(-d1,0,1))\n",
    "        return price   \n",
    "    \n",
    "    except:\n",
    "        print(\"Please check the parameters\") \n",
    "    \n",
    "        \n",
    "   \n",
    "\n",
    "    "
   ]
  },
  {
   "cell_type": "code",
   "execution_count": 25,
   "id": "eb2aad30",
   "metadata": {},
   "outputs": [
    {
     "name": "stdout",
     "output_type": "stream",
     "text": [
      "Option price is:  0.51\n"
     ]
    }
   ],
   "source": [
    "print (\"Option price is: \",round(blackscholes(r,S,K,T,sigma,Type=\"C\"),2))     "
   ]
  },
  {
   "cell_type": "code",
   "execution_count": null,
   "id": "89303bb1",
   "metadata": {},
   "outputs": [],
   "source": []
  },
  {
   "cell_type": "code",
   "execution_count": null,
   "id": "408faf42",
   "metadata": {},
   "outputs": [],
   "source": []
  },
  {
   "cell_type": "code",
   "execution_count": null,
   "id": "50ae02aa",
   "metadata": {},
   "outputs": [],
   "source": []
  },
  {
   "cell_type": "code",
   "execution_count": null,
   "id": "ca797e74",
   "metadata": {},
   "outputs": [],
   "source": []
  },
  {
   "cell_type": "code",
   "execution_count": null,
   "id": "2bb64403",
   "metadata": {},
   "outputs": [],
   "source": []
  },
  {
   "cell_type": "code",
   "execution_count": null,
   "id": "e9b1cb01",
   "metadata": {},
   "outputs": [],
   "source": []
  }
 ],
 "metadata": {
  "kernelspec": {
   "display_name": "Python 3 (ipykernel)",
   "language": "python",
   "name": "python3"
  },
  "language_info": {
   "codemirror_mode": {
    "name": "ipython",
    "version": 3
   },
   "file_extension": ".py",
   "mimetype": "text/x-python",
   "name": "python",
   "nbconvert_exporter": "python",
   "pygments_lexer": "ipython3",
   "version": "3.11.5"
  }
 },
 "nbformat": 4,
 "nbformat_minor": 5
}
